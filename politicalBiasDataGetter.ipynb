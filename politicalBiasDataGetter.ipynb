{
 "cells": [
  {
   "cell_type": "markdown",
   "metadata": {},
   "source": [
    "## Get data"
   ]
  },
  {
   "cell_type": "code",
   "execution_count": 1,
   "metadata": {},
   "outputs": [],
   "source": [
    "import pandas as pd"
   ]
  },
  {
   "cell_type": "code",
   "execution_count": 2,
   "metadata": {},
   "outputs": [],
   "source": [
    "conservatives = pd.read_csv('conservative-list.csv')\n",
    "liberals = pd.read_csv('liberal-list.csv')"
   ]
  },
  {
   "cell_type": "code",
   "execution_count": 3,
   "metadata": {},
   "outputs": [],
   "source": [
    "import tweepy\n",
    "\n",
    "client = tweepy.Client(\"AAAAAAAAAAAAAAAAAAAAAPQGWQEAAAAAdmawd2bK6As9ecNDBNxhuSS8jmk%3DoKo2dA1FG2ZKmTK4WPfTvhC25mEf7IfXoOHBQE8Er5tO3MwTro\")"
   ]
  },
  {
   "cell_type": "code",
   "execution_count": 4,
   "metadata": {},
   "outputs": [],
   "source": [
    "tweets_arr = []"
   ]
  },
  {
   "cell_type": "code",
   "execution_count": 5,
   "metadata": {},
   "outputs": [],
   "source": [
    "def add_tweets_to_tweets_arr(list_of_users_handlers: list, political_inclination: str):\n",
    "    for handle in list_of_users_handlers:\n",
    "        user = client.get_user(username=handle)\n",
    "        tweets = [{ \"text\": text, \"political_inclination\": political_inclination } for text in client.get_users_tweets(id=user.data.id, max_results=100).data]\n",
    "        tweets_arr.extend(tweets)"
   ]
  },
  {
   "cell_type": "code",
   "execution_count": 6,
   "metadata": {},
   "outputs": [
    {
     "ename": "BadRequest",
     "evalue": "400 Bad Request\nThe `max_results` query parameter value [200] is not between 5 and 100",
     "output_type": "error",
     "traceback": [
      "\u001b[0;31m---------------------------------------------------------------------------\u001b[0m",
      "\u001b[0;31mBadRequest\u001b[0m                                Traceback (most recent call last)",
      "\u001b[1;32m/Users/martinbrian/Desktop/PoliticalBias/political-bias/politicalBiasDataGetter.ipynb Cell 7'\u001b[0m in \u001b[0;36m<module>\u001b[0;34m\u001b[0m\n\u001b[0;32m----> <a href='vscode-notebook-cell:/Users/martinbrian/Desktop/PoliticalBias/political-bias/politicalBiasDataGetter.ipynb#ch0000006?line=0'>1</a>\u001b[0m add_tweets_to_tweets_arr(conservatives\u001b[39m.\u001b[39;49mHandle, \u001b[39m\"\u001b[39;49m\u001b[39mconservative\u001b[39;49m\u001b[39m\"\u001b[39;49m)\n\u001b[1;32m      <a href='vscode-notebook-cell:/Users/martinbrian/Desktop/PoliticalBias/political-bias/politicalBiasDataGetter.ipynb#ch0000006?line=1'>2</a>\u001b[0m add_tweets_to_tweets_arr(liberals\u001b[39m.\u001b[39mHandle, \u001b[39m\"\u001b[39m\u001b[39mliberal\u001b[39m\u001b[39m\"\u001b[39m)\n",
      "\u001b[1;32m/Users/martinbrian/Desktop/PoliticalBias/political-bias/politicalBiasDataGetter.ipynb Cell 6'\u001b[0m in \u001b[0;36madd_tweets_to_tweets_arr\u001b[0;34m(list_of_users_handlers, political_inclination)\u001b[0m\n\u001b[1;32m      <a href='vscode-notebook-cell:/Users/martinbrian/Desktop/PoliticalBias/political-bias/politicalBiasDataGetter.ipynb#ch0000005?line=1'>2</a>\u001b[0m \u001b[39mfor\u001b[39;00m handle \u001b[39min\u001b[39;00m list_of_users_handlers:\n\u001b[1;32m      <a href='vscode-notebook-cell:/Users/martinbrian/Desktop/PoliticalBias/political-bias/politicalBiasDataGetter.ipynb#ch0000005?line=2'>3</a>\u001b[0m     user \u001b[39m=\u001b[39m client\u001b[39m.\u001b[39mget_user(username\u001b[39m=\u001b[39mhandle)\n\u001b[0;32m----> <a href='vscode-notebook-cell:/Users/martinbrian/Desktop/PoliticalBias/political-bias/politicalBiasDataGetter.ipynb#ch0000005?line=3'>4</a>\u001b[0m     tweets \u001b[39m=\u001b[39m [{ \u001b[39m\"\u001b[39m\u001b[39mtext\u001b[39m\u001b[39m\"\u001b[39m: text, \u001b[39m\"\u001b[39m\u001b[39mpolitical_inclination\u001b[39m\u001b[39m\"\u001b[39m: political_inclination } \u001b[39mfor\u001b[39;00m text \u001b[39min\u001b[39;00m client\u001b[39m.\u001b[39;49mget_users_tweets(\u001b[39mid\u001b[39;49m\u001b[39m=\u001b[39;49muser\u001b[39m.\u001b[39;49mdata\u001b[39m.\u001b[39;49mid, max_results\u001b[39m=\u001b[39;49m\u001b[39m200\u001b[39;49m)\u001b[39m.\u001b[39mdata]\n\u001b[1;32m      <a href='vscode-notebook-cell:/Users/martinbrian/Desktop/PoliticalBias/political-bias/politicalBiasDataGetter.ipynb#ch0000005?line=4'>5</a>\u001b[0m     tweets_arr\u001b[39m.\u001b[39mextend(tweets)\n",
      "File \u001b[0;32m~/Library/Python/3.8/lib/python/site-packages/tweepy/client.py:1565\u001b[0m, in \u001b[0;36mClient.get_users_tweets\u001b[0;34m(self, id, user_auth, **params)\u001b[0m\n\u001b[1;32m   <a href='file:///Users/martinbrian/Library/Python/3.8/lib/python/site-packages/tweepy/client.py?line=1464'>1465</a>\u001b[0m \u001b[39mdef\u001b[39;00m \u001b[39mget_users_tweets\u001b[39m(\u001b[39mself\u001b[39m, \u001b[39mid\u001b[39m, \u001b[39m*\u001b[39m, user_auth\u001b[39m=\u001b[39m\u001b[39mFalse\u001b[39;00m, \u001b[39m*\u001b[39m\u001b[39m*\u001b[39mparams):\n\u001b[1;32m   <a href='file:///Users/martinbrian/Library/Python/3.8/lib/python/site-packages/tweepy/client.py?line=1465'>1466</a>\u001b[0m     \u001b[39m\"\"\"get_users_tweets( \\\u001b[39;00m\n\u001b[1;32m   <a href='file:///Users/martinbrian/Library/Python/3.8/lib/python/site-packages/tweepy/client.py?line=1466'>1467</a>\u001b[0m \u001b[39m        id, *, end_time=None, exclude=None, expansions=None, \\\u001b[39;00m\n\u001b[1;32m   <a href='file:///Users/martinbrian/Library/Python/3.8/lib/python/site-packages/tweepy/client.py?line=1467'>1468</a>\u001b[0m \u001b[39m        max_results=None, media_fields=None, pagination_token=None, \\\u001b[39;00m\n\u001b[0;32m   (...)\u001b[0m\n\u001b[1;32m   <a href='file:///Users/martinbrian/Library/Python/3.8/lib/python/site-packages/tweepy/client.py?line=1562'>1563</a>\u001b[0m \u001b[39m    .. _here: https://developer.twitter.com/en/docs/twitter-ids\u001b[39;00m\n\u001b[1;32m   <a href='file:///Users/martinbrian/Library/Python/3.8/lib/python/site-packages/tweepy/client.py?line=1563'>1564</a>\u001b[0m \u001b[39m    \"\"\"\u001b[39;00m\n\u001b[0;32m-> <a href='file:///Users/martinbrian/Library/Python/3.8/lib/python/site-packages/tweepy/client.py?line=1564'>1565</a>\u001b[0m     \u001b[39mreturn\u001b[39;00m \u001b[39mself\u001b[39;49m\u001b[39m.\u001b[39;49m_make_request(\n\u001b[1;32m   <a href='file:///Users/martinbrian/Library/Python/3.8/lib/python/site-packages/tweepy/client.py?line=1565'>1566</a>\u001b[0m         \u001b[39m\"\u001b[39;49m\u001b[39mGET\u001b[39;49m\u001b[39m\"\u001b[39;49m, \u001b[39mf\u001b[39;49m\u001b[39m\"\u001b[39;49m\u001b[39m/2/users/\u001b[39;49m\u001b[39m{\u001b[39;49;00m\u001b[39mid\u001b[39;49m\u001b[39m}\u001b[39;49;00m\u001b[39m/tweets\u001b[39;49m\u001b[39m\"\u001b[39;49m, params\u001b[39m=\u001b[39;49mparams,\n\u001b[1;32m   <a href='file:///Users/martinbrian/Library/Python/3.8/lib/python/site-packages/tweepy/client.py?line=1566'>1567</a>\u001b[0m         endpoint_parameters\u001b[39m=\u001b[39;49m(\n\u001b[1;32m   <a href='file:///Users/martinbrian/Library/Python/3.8/lib/python/site-packages/tweepy/client.py?line=1567'>1568</a>\u001b[0m             \u001b[39m\"\u001b[39;49m\u001b[39mend_time\u001b[39;49m\u001b[39m\"\u001b[39;49m, \u001b[39m\"\u001b[39;49m\u001b[39mexclude\u001b[39;49m\u001b[39m\"\u001b[39;49m, \u001b[39m\"\u001b[39;49m\u001b[39mexpansions\u001b[39;49m\u001b[39m\"\u001b[39;49m, \u001b[39m\"\u001b[39;49m\u001b[39mmax_results\u001b[39;49m\u001b[39m\"\u001b[39;49m,\n\u001b[1;32m   <a href='file:///Users/martinbrian/Library/Python/3.8/lib/python/site-packages/tweepy/client.py?line=1568'>1569</a>\u001b[0m             \u001b[39m\"\u001b[39;49m\u001b[39mmedia.fields\u001b[39;49m\u001b[39m\"\u001b[39;49m, \u001b[39m\"\u001b[39;49m\u001b[39mpagination_token\u001b[39;49m\u001b[39m\"\u001b[39;49m, \u001b[39m\"\u001b[39;49m\u001b[39mplace.fields\u001b[39;49m\u001b[39m\"\u001b[39;49m,\n\u001b[1;32m   <a href='file:///Users/martinbrian/Library/Python/3.8/lib/python/site-packages/tweepy/client.py?line=1569'>1570</a>\u001b[0m             \u001b[39m\"\u001b[39;49m\u001b[39mpoll.fields\u001b[39;49m\u001b[39m\"\u001b[39;49m, \u001b[39m\"\u001b[39;49m\u001b[39msince_id\u001b[39;49m\u001b[39m\"\u001b[39;49m, \u001b[39m\"\u001b[39;49m\u001b[39mstart_time\u001b[39;49m\u001b[39m\"\u001b[39;49m, \u001b[39m\"\u001b[39;49m\u001b[39mtweet.fields\u001b[39;49m\u001b[39m\"\u001b[39;49m,\n\u001b[1;32m   <a href='file:///Users/martinbrian/Library/Python/3.8/lib/python/site-packages/tweepy/client.py?line=1570'>1571</a>\u001b[0m             \u001b[39m\"\u001b[39;49m\u001b[39muntil_id\u001b[39;49m\u001b[39m\"\u001b[39;49m, \u001b[39m\"\u001b[39;49m\u001b[39muser.fields\u001b[39;49m\u001b[39m\"\u001b[39;49m\n\u001b[1;32m   <a href='file:///Users/martinbrian/Library/Python/3.8/lib/python/site-packages/tweepy/client.py?line=1571'>1572</a>\u001b[0m         ), data_type\u001b[39m=\u001b[39;49mTweet, user_auth\u001b[39m=\u001b[39;49muser_auth\n\u001b[1;32m   <a href='file:///Users/martinbrian/Library/Python/3.8/lib/python/site-packages/tweepy/client.py?line=1572'>1573</a>\u001b[0m     )\n",
      "File \u001b[0;32m~/Library/Python/3.8/lib/python/site-packages/tweepy/client.py:126\u001b[0m, in \u001b[0;36mBaseClient._make_request\u001b[0;34m(self, method, route, params, endpoint_parameters, json, data_type, user_auth)\u001b[0m\n\u001b[1;32m    <a href='file:///Users/martinbrian/Library/Python/3.8/lib/python/site-packages/tweepy/client.py?line=121'>122</a>\u001b[0m \u001b[39mdef\u001b[39;00m \u001b[39m_make_request\u001b[39m(\u001b[39mself\u001b[39m, method, route, params\u001b[39m=\u001b[39m{}, endpoint_parameters\u001b[39m=\u001b[39m\u001b[39mNone\u001b[39;00m,\n\u001b[1;32m    <a href='file:///Users/martinbrian/Library/Python/3.8/lib/python/site-packages/tweepy/client.py?line=122'>123</a>\u001b[0m                   json\u001b[39m=\u001b[39m\u001b[39mNone\u001b[39;00m, data_type\u001b[39m=\u001b[39m\u001b[39mNone\u001b[39;00m, user_auth\u001b[39m=\u001b[39m\u001b[39mFalse\u001b[39;00m):\n\u001b[1;32m    <a href='file:///Users/martinbrian/Library/Python/3.8/lib/python/site-packages/tweepy/client.py?line=123'>124</a>\u001b[0m     request_params \u001b[39m=\u001b[39m \u001b[39mself\u001b[39m\u001b[39m.\u001b[39m_process_params(params, endpoint_parameters)\n\u001b[0;32m--> <a href='file:///Users/martinbrian/Library/Python/3.8/lib/python/site-packages/tweepy/client.py?line=125'>126</a>\u001b[0m     response \u001b[39m=\u001b[39m \u001b[39mself\u001b[39;49m\u001b[39m.\u001b[39;49mrequest(method, route, params\u001b[39m=\u001b[39;49mrequest_params,\n\u001b[1;32m    <a href='file:///Users/martinbrian/Library/Python/3.8/lib/python/site-packages/tweepy/client.py?line=126'>127</a>\u001b[0m                             json\u001b[39m=\u001b[39;49mjson, user_auth\u001b[39m=\u001b[39;49muser_auth)\n\u001b[1;32m    <a href='file:///Users/martinbrian/Library/Python/3.8/lib/python/site-packages/tweepy/client.py?line=128'>129</a>\u001b[0m     \u001b[39mif\u001b[39;00m \u001b[39mself\u001b[39m\u001b[39m.\u001b[39mreturn_type \u001b[39mis\u001b[39;00m requests\u001b[39m.\u001b[39mResponse:\n\u001b[1;32m    <a href='file:///Users/martinbrian/Library/Python/3.8/lib/python/site-packages/tweepy/client.py?line=129'>130</a>\u001b[0m         \u001b[39mreturn\u001b[39;00m response\n",
      "File \u001b[0;32m~/Library/Python/3.8/lib/python/site-packages/tweepy/client.py:95\u001b[0m, in \u001b[0;36mBaseClient.request\u001b[0;34m(self, method, route, params, json, user_auth)\u001b[0m\n\u001b[1;32m     <a href='file:///Users/martinbrian/Library/Python/3.8/lib/python/site-packages/tweepy/client.py?line=86'>87</a>\u001b[0m log\u001b[39m.\u001b[39mdebug(\n\u001b[1;32m     <a href='file:///Users/martinbrian/Library/Python/3.8/lib/python/site-packages/tweepy/client.py?line=87'>88</a>\u001b[0m     \u001b[39m\"\u001b[39m\u001b[39mReceived API response: \u001b[39m\u001b[39m\"\u001b[39m\n\u001b[1;32m     <a href='file:///Users/martinbrian/Library/Python/3.8/lib/python/site-packages/tweepy/client.py?line=88'>89</a>\u001b[0m     \u001b[39mf\u001b[39m\u001b[39m\"\u001b[39m\u001b[39m{\u001b[39;00mresponse\u001b[39m.\u001b[39mstatus_code\u001b[39m}\u001b[39;00m\u001b[39m \u001b[39m\u001b[39m{\u001b[39;00mresponse\u001b[39m.\u001b[39mreason\u001b[39m}\u001b[39;00m\u001b[39m\\n\u001b[39;00m\u001b[39m\"\u001b[39m\n\u001b[1;32m     <a href='file:///Users/martinbrian/Library/Python/3.8/lib/python/site-packages/tweepy/client.py?line=89'>90</a>\u001b[0m     \u001b[39mf\u001b[39m\u001b[39m\"\u001b[39m\u001b[39mHeaders: \u001b[39m\u001b[39m{\u001b[39;00mresponse\u001b[39m.\u001b[39mheaders\u001b[39m}\u001b[39;00m\u001b[39m\\n\u001b[39;00m\u001b[39m\"\u001b[39m\n\u001b[1;32m     <a href='file:///Users/martinbrian/Library/Python/3.8/lib/python/site-packages/tweepy/client.py?line=90'>91</a>\u001b[0m     \u001b[39mf\u001b[39m\u001b[39m\"\u001b[39m\u001b[39mContent: \u001b[39m\u001b[39m{\u001b[39;00mresponse\u001b[39m.\u001b[39mcontent\u001b[39m}\u001b[39;00m\u001b[39m\"\u001b[39m\n\u001b[1;32m     <a href='file:///Users/martinbrian/Library/Python/3.8/lib/python/site-packages/tweepy/client.py?line=91'>92</a>\u001b[0m )\n\u001b[1;32m     <a href='file:///Users/martinbrian/Library/Python/3.8/lib/python/site-packages/tweepy/client.py?line=93'>94</a>\u001b[0m \u001b[39mif\u001b[39;00m response\u001b[39m.\u001b[39mstatus_code \u001b[39m==\u001b[39m \u001b[39m400\u001b[39m:\n\u001b[0;32m---> <a href='file:///Users/martinbrian/Library/Python/3.8/lib/python/site-packages/tweepy/client.py?line=94'>95</a>\u001b[0m     \u001b[39mraise\u001b[39;00m BadRequest(response)\n\u001b[1;32m     <a href='file:///Users/martinbrian/Library/Python/3.8/lib/python/site-packages/tweepy/client.py?line=95'>96</a>\u001b[0m \u001b[39mif\u001b[39;00m response\u001b[39m.\u001b[39mstatus_code \u001b[39m==\u001b[39m \u001b[39m401\u001b[39m:\n\u001b[1;32m     <a href='file:///Users/martinbrian/Library/Python/3.8/lib/python/site-packages/tweepy/client.py?line=96'>97</a>\u001b[0m     \u001b[39mraise\u001b[39;00m Unauthorized(response)\n",
      "\u001b[0;31mBadRequest\u001b[0m: 400 Bad Request\nThe `max_results` query parameter value [200] is not between 5 and 100"
     ]
    }
   ],
   "source": [
    "add_tweets_to_tweets_arr(conservatives.Handle, \"conservative\")\n",
    "add_tweets_to_tweets_arr(liberals.Handle, \"liberal\")"
   ]
  },
  {
   "cell_type": "code",
   "execution_count": null,
   "metadata": {},
   "outputs": [],
   "source": [
    "pd.DataFrame(tweets_arr).to_csv(\"tweets.csv\", index=False,)\n"
   ]
  }
 ],
 "metadata": {
  "interpreter": {
   "hash": "31f2aee4e71d21fbe5cf8b01ff0e069b9275f58929596ceb00d14d90e3e16cd6"
  },
  "kernelspec": {
   "display_name": "Python 3.8.9 64-bit",
   "language": "python",
   "name": "python3"
  },
  "language_info": {
   "codemirror_mode": {
    "name": "ipython",
    "version": 3
   },
   "file_extension": ".py",
   "mimetype": "text/x-python",
   "name": "python",
   "nbconvert_exporter": "python",
   "pygments_lexer": "ipython3",
   "version": "3.8.9"
  },
  "orig_nbformat": 4
 },
 "nbformat": 4,
 "nbformat_minor": 2
}
